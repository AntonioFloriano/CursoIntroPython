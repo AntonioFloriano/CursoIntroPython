{
 "cells": [
  {
   "cell_type": "code",
   "execution_count": 21,
   "metadata": {},
   "outputs": [
    {
     "name": "stdout",
     "output_type": "stream",
     "text": [
      "distancia en kilometros:  628949330\n",
      "distancia en millas:  390577533.93\n"
     ]
    }
   ],
   "source": [
    "distanciaTierra = 149597870\n",
    "distanciaJupiter = 778547200\n",
    "\n",
    "distancia = distanciaJupiter - distanciaTierra\n",
    "print(\"distancia en kilometros: \",distancia)\n",
    "\n",
    "distancia_mi = distancia * 0.621\n",
    "print(\"distancia en millas: \",distancia_mi)\n",
    "\n"
   ]
  },
  {
   "cell_type": "markdown",
   "metadata": {},
   "source": [
    "ejercicio 2"
   ]
  },
  {
   "cell_type": "code",
   "execution_count": 23,
   "metadata": {},
   "outputs": [
    {
     "name": "stdout",
     "output_type": "stream",
     "text": [
      "distancia en kilometros:  170000000\n",
      "distancia en millas:  105570000.0\n"
     ]
    }
   ],
   "source": [
    "\n",
    "primer_planeta = input(\"ingrese la distancia al sol del primer planeta en K/M\")\n",
    "segundo_planeta = input(\"ingrese la distancia al sol del segundo planeta K/M\")\n",
    "\n",
    "primer_planeta = int(primer_planeta)\n",
    "segundo_planeta = int(segundo_planeta)\n",
    " \n",
    "distancia =  segundo_planeta - primer_planeta\n",
    "print(\"distancia en kilometros: \", distancia)\n",
    "\n",
    "distancia_mi = distancia * 0.621\n",
    "print(\"distancia en millas: \",distancia_mi)"
   ]
  }
 ],
 "metadata": {
  "interpreter": {
   "hash": "255d2dac8df85dabdd64a143eff9911d520319877f5178e803d0daa02231ce18"
  },
  "kernelspec": {
   "display_name": "Python 3.10.2 64-bit",
   "language": "python",
   "name": "python3"
  },
  "language_info": {
   "codemirror_mode": {
    "name": "ipython",
    "version": 3
   },
   "file_extension": ".py",
   "mimetype": "text/x-python",
   "name": "python",
   "nbconvert_exporter": "python",
   "pygments_lexer": "ipython3",
   "version": "3.10.2"
  },
  "orig_nbformat": 4
 },
 "nbformat": 4,
 "nbformat_minor": 2
}
