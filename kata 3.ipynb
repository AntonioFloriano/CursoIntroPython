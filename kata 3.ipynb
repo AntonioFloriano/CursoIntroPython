{
 "cells": [
  {
   "cell_type": "code",
   "execution_count": 1,
   "metadata": {},
   "outputs": [
    {
     "name": "stdout",
     "output_type": "stream",
     "text": [
      "ADVERTENCIA VELOCIDAD POR ENCIMA DE 25 K/H\n"
     ]
    }
   ],
   "source": [
    "velAst = 49\n",
    "if velAst > 25:\n",
    "    print(\"ADVERTENCIA VELOCIDAD POR ENCIMA DE 25 K/H\")\n",
    "else:\n",
    "    print(\"no hay ningun problema \")    "
   ]
  },
  {
   "cell_type": "code",
   "execution_count": 2,
   "metadata": {},
   "outputs": [
    {
     "name": "stdout",
     "output_type": "stream",
     "text": [
      "no se ve nada\n"
     ]
    }
   ],
   "source": [
    "velAst = 19\n",
    "if velAst >= 20:\n",
    "    print(\"se puede ver l rayo de luz\")\n",
    "elif velAst == 20:\n",
    "    print(\"se puede ver el rayo de luz\")\n",
    "else:\n",
    "    print(\"no se ve nada\")        "
   ]
  },
  {
   "cell_type": "code",
   "execution_count": 5,
   "metadata": {},
   "outputs": [
    {
     "name": "stdout",
     "output_type": "stream",
     "text": [
      "ADVERTENCIA SE ACERCA UN ASTEROIDE PELIGROSO\n"
     ]
    }
   ],
   "source": [
    "velAst = 50\n",
    "tamAst = 32\n",
    "if velAst >= 25 or tamAst >= 25:\n",
    "    print(\"ADVERTENCIA SE ACERCA UN ASTEROIDE PELIGROSO\")\n",
    "elif velAst >= 20:\n",
    "   print(\"se ve un rayo de luz en el cielo!\")\n",
    "elif tamAst <= 25:\n",
    "    print(\"no hay ningun problema \")   \n",
    "else:\n",
    "    print(\"no hay ningun problema \")    \n",
    "    "
   ]
  }
 ],
 "metadata": {
  "interpreter": {
   "hash": "255d2dac8df85dabdd64a143eff9911d520319877f5178e803d0daa02231ce18"
  },
  "kernelspec": {
   "display_name": "Python 3.10.2 64-bit",
   "language": "python",
   "name": "python3"
  },
  "language_info": {
   "codemirror_mode": {
    "name": "ipython",
    "version": 3
   },
   "file_extension": ".py",
   "mimetype": "text/x-python",
   "name": "python",
   "nbconvert_exporter": "python",
   "pygments_lexer": "ipython3",
   "version": "3.10.2"
  },
  "orig_nbformat": 4
 },
 "nbformat": 4,
 "nbformat_minor": 2
}
