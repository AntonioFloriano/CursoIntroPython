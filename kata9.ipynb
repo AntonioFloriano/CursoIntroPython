{
 "cells": [
  {
   "cell_type": "markdown",
   "metadata": {},
   "source": [
    "Ejercicio 1"
   ]
  },
  {
   "cell_type": "code",
   "execution_count": 2,
   "metadata": {},
   "outputs": [
    {
     "name": "stdout",
     "output_type": "stream",
     "text": [
      "Reporte:\n",
      "    promedio: 50.333333333333336%\n",
      "    tanque 1: 50%\n",
      "    tanque 2: 34%\n",
      "    tanque 3: 67% \n",
      "    \n"
     ]
    }
   ],
   "source": [
    "def generar_repo(tanque1, tanque2, tanque3):\n",
    "    promedio = (tanque1 + tanque2 + tanque3) / 3\n",
    "    return f\"\"\"Reporte:\n",
    "    promedio: {promedio}%\n",
    "    tanque 1: {tanque1}%\n",
    "    tanque 2: {tanque2}%\n",
    "    tanque 3: {tanque3}% \n",
    "    \"\"\"\n",
    "print(generar_repo(50,34,67))"
   ]
  },
  {
   "cell_type": "code",
   "execution_count": 3,
   "metadata": {},
   "outputs": [
    {
     "data": {
      "text/plain": [
       "50.333333333333336"
      ]
     },
     "execution_count": 3,
     "metadata": {},
     "output_type": "execute_result"
    }
   ],
   "source": [
    "def promedio(values):\n",
    "    total = sum(values)\n",
    "    valores = len(values)\n",
    "    return total / valores\n",
    "\n",
    "promedio([34, 50, 67])     "
   ]
  },
  {
   "cell_type": "code",
   "execution_count": 6,
   "metadata": {},
   "outputs": [
    {
     "name": "stdout",
     "output_type": "stream",
     "text": [
      "Reporte de combustible:\n",
      "    Promdio: 59.0%\n",
      "    Tanque1: 44%\n",
      "    Tanque2: 35%\n",
      "    tanque3: 98% \n"
     ]
    }
   ],
   "source": [
    "def generar_repo(tanque1, tanque2, tanque3):\n",
    "    return f\"\"\"Reporte de combustible:\n",
    "    Promdio: {promedio([tanque1, tanque2, tanque3])}%\n",
    "    Tanque1: {tanque1}%\n",
    "    Tanque2: {tanque2}%\n",
    "    tanque3: {tanque3}% \"\"\"\n",
    "print(generar_repo(44, 35, 98))"
   ]
  },
  {
   "cell_type": "markdown",
   "metadata": {},
   "source": [
    "Ejercicio 2"
   ]
  },
  {
   "cell_type": "code",
   "execution_count": 8,
   "metadata": {},
   "outputs": [
    {
     "name": "stdout",
     "output_type": "stream",
     "text": [
      "\n",
      "    Destino mars\n",
      "    Tiempo de vuelo: 76 minutes\n",
      "    combustible restante: 2133436092 litros\n",
      "    \n"
     ]
    }
   ],
   "source": [
    "def repo_mission(pre_launch_time, flight_time, destino, ext_tanq, princ_tanq):\n",
    "    return f\"\"\"\n",
    "    Destino {destino}\n",
    "    Tiempo de vuelo: {pre_launch_time + flight_time} minutes\n",
    "    combustible restante: {ext_tanq + princ_tanq} litros\n",
    "    \"\"\"\n",
    "\n",
    "print(repo_mission(10, 66, \"mars\", 898989448, 1234446644))"
   ]
  },
  {
   "cell_type": "code",
   "execution_count": 10,
   "metadata": {},
   "outputs": [
    {
     "name": "stdout",
     "output_type": "stream",
     "text": [
      "\n",
      "    Destino Mars\n",
      "    Tiempo del viaje: 79 minutos\n",
      "    Combustible restante: 450124548\n",
      "    \n"
     ]
    }
   ],
   "source": [
    "def repo_mission(destino, *minutos, **combustible):\n",
    "    return f\"\"\"\n",
    "    Destino {destino}\n",
    "    Tiempo del viaje: {sum(minutos)} minutos\n",
    "    Combustible restante: {sum(combustible.values())}\n",
    "    \"\"\"\n",
    "\n",
    "print(repo_mission(\"Mars\", 12, 22, 45, ext_t=446576878, principal=3547670))"
   ]
  },
  {
   "cell_type": "code",
   "execution_count": 16,
   "metadata": {},
   "outputs": [
    {
     "name": "stdout",
     "output_type": "stream",
     "text": [
      "\n",
      "    Destino Mars\n",
      "    Tiempo de viaje: 79 minutes\n",
      "    Combustible restante: 450124548\n",
      "    Tanque externo quedan 446576878 litros \n",
      "Tanque principal quedan 3547670 litros \n",
      "\n"
     ]
    }
   ],
   "source": [
    "def repo_mission(destino, *minutos, **combustible):\n",
    "    report = f\"\"\"\n",
    "    Destino {destino}\n",
    "    Tiempo de viaje: {sum(minutos)} minutes\n",
    "    Combustible restante: {sum(combustible.values())}\n",
    "    \"\"\"\n",
    "    for tank, gallons in combustible.items():\n",
    "       report += f\"Tanque {tank} quedan {gallons} litros \\n\"\n",
    "    return report\n",
    "\n",
    "print(repo_mission(\"Mars\", 12, 22, 45, externo=446576878, principal=3547670))"
   ]
  }
 ],
 "metadata": {
  "interpreter": {
   "hash": "97e9dd21aaf402f676c79eb00c36372dfcdc876950b52cbdc60a2ce50e003e69"
  },
  "kernelspec": {
   "display_name": "Python 3.10.2 64-bit",
   "language": "python",
   "name": "python3"
  },
  "language_info": {
   "codemirror_mode": {
    "name": "ipython",
    "version": 3
   },
   "file_extension": ".py",
   "mimetype": "text/x-python",
   "name": "python",
   "nbconvert_exporter": "python",
   "pygments_lexer": "ipython3",
   "version": "3.10.2"
  },
  "orig_nbformat": 4
 },
 "nbformat": 4,
 "nbformat_minor": 2
}
